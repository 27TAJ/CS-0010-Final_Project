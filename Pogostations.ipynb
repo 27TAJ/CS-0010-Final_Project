{
 "cells": [
  {
   "cell_type": "code",
   "execution_count": 38,
   "metadata": {},
   "outputs": [],
   "source": [
    "import geopandas as gpd\n",
    "from shapely.geometry import Point\n",
    "\n",
    "map = \"City_of_Pittsburgh_Neighborhoods.shp\"\n",
    "\n",
    "data = gpd.read_file(map).to_crs(\"EPSG:4326\")\n",
    "\n",
    "def get_neighborhood(lat, lon):\n",
    "    point = Point(lon, lat)  \n",
    "    for col, row in data.iterrows():\n",
    "        if row['geometry'].contains(point):\n",
    "            return row['HOOD'] \n",
    "    return \"Neighborhood not found\"\n"
   ]
  },
  {
   "cell_type": "code",
   "execution_count": 40,
   "metadata": {},
   "outputs": [
    {
     "name": "stdout",
     "output_type": "stream",
     "text": [
      "{'Shadyside': 0.6666666666666666, 'Hazelwood': 0.3333333333333333, 'Middle Hill': 0.0, 'Strip District': 0.3333333333333333, 'Chateau': 0.0, 'Central Business District': 0.8333333333333334, 'Bloomfield': 0.3333333333333333, 'South Shore': 0.16666666666666666, 'South Side Flats': 0.5, 'Central Oakland': 1.0, 'North Oakland': 0.5, 'Homewood South': 0.3333333333333333, 'Central Lawrenceville': 0.0, 'North Shore': 0.0, 'Lower Lawrenceville': 0.16666666666666666, 'East Liberty': 0.0, 'Garfield': 0.16666666666666666, 'Friendship': 0.0, 'Terrace Village': 0.0, 'Larimer': 0.0, 'South Oakland': 0.0, 'Bedford Dwellings': 0.0, 'Crawford-Roberts': 0.0, 'Allegheny Center': 0.16666666666666666, 'Central Northside': 0.0, 'Upper Lawrenceville': 0.0, 'Neighborhood not found': 0.0}\n"
     ]
    }
   ],
   "source": [
    "import csv\n",
    "neighborhoods = {}\n",
    "with open(\"PogoStations.csv\", \"r\") as pogos:\n",
    "    reader = csv.reader(pogos)\n",
    "    next(reader) \n",
    "    for row in reader:\n",
    "        latitude = float(row[4])\n",
    "        longitude = float(row[5])\n",
    "        neighborhood = get_neighborhood(latitude, longitude)\n",
    "        if neighborhood in neighborhoods:\n",
    "            neighborhoods[neighborhood] += 1\n",
    "        else:\n",
    "            neighborhoods[neighborhood] = 1\n",
    "maxPogo = max(neighborhoods.values())\n",
    "minPogo = min(neighborhoods.values())\n",
    "\n",
    "BikeScore = {}\n",
    "for neighborhood in neighborhoods:\n",
    "    BikeScore[neighborhood] = (neighborhoods[neighborhood] - minPogo)/(maxPogo - minPogo)\n",
    "\n",
    "print(BikeScore)\n",
    "    "
   ]
  }
 ],
 "metadata": {
  "kernelspec": {
   "display_name": "Python 3",
   "language": "python",
   "name": "python3"
  },
  "language_info": {
   "codemirror_mode": {
    "name": "ipython",
    "version": 3
   },
   "file_extension": ".py",
   "mimetype": "text/x-python",
   "name": "python",
   "nbconvert_exporter": "python",
   "pygments_lexer": "ipython3",
   "version": "3.13.1"
  }
 },
 "nbformat": 4,
 "nbformat_minor": 2
}
