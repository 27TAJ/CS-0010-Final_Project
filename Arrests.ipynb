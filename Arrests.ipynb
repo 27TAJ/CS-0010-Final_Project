{
 "cells": [
  {
   "cell_type": "markdown",
   "id": "33dd4cd6-2781-4ac5-a3f9-b6418c020216",
   "metadata": {},
   "source": [
    "Dataset : Pittsburgh Arrest Data - https://data.wprdc.org/dataset/arrest-data\n",
    "\n",
    "How I will use this data : I will use this dataset to count the number of arrests in each unique neighborhood. Once tallies I will be able to analyze the safety throughout the years in each neighborhood (1998 - 2023)\n",
    "\n"
   ]
  },
  {
   "cell_type": "code",
   "execution_count": 7,
   "id": "7ffd84b9-3e87-4d66-b036-60c9147f0726",
   "metadata": {},
   "outputs": [
    {
     "name": "stdout",
     "output_type": "stream",
     "text": [
      "{'Shadyside': 0.2523117569352708, 'Neighborhood not found': 0.19682959048877147, 'Lincoln-Lemington-Belmar': 0.3453104359313078, 'East Allegheny': 0.5387054161162483, 'Crafton Heights': 0.1273447820343461, 'Greenfield': 0.130779392338177, 'Brookline': 0.3241743725231176, 'East Hills': 0.2784676354029062, 'Carrick': 0.5550858652575957, 'Allegheny Center': 0.2095112285336856, 'South Side Flats': 0.8774108322324967, 'Sheraden': 0.2892998678996037, 'East Carnegie': 0.0, 'Central Business District': 1.0, 'Point Breeze North': 0.05918097754293263, 'Perry South': 0.2993394980184941, 'Allentown': 0.21638044914134744, 'Bluff': 0.3231175693527081, 'North Shore': 0.13976221928665786, 'Marshall-Shadeland': 0.3157199471598415, 'Central Oakland': 0.1096433289299868, 'Upper Hill': 0.08031704095112285, 'Strip District': 0.11677675033025099, 'Central Northside': 0.3247027741083223, 'Troy Hill': 0.09484808454425363, 'Highland Park': 0.08639365918097754, 'Homewood North': 0.44464993394980185, 'Northview Heights': 0.1331571994715984, 'Brighton Heights': 0.25442536327608983, 'Bloomfield': 0.2499339498018494, 'Hazelwood': 0.31994715984147953, 'Bedford Dwellings': 0.13500660501981507, 'Elliott': 0.16142668428005283, 'Beechview': 0.29616908850726553, 'Glen Hazel': 0.02298546895640687, 'Spring Hill-City View': 0.1857331571994716, 'Manchester': 0.12417437252311757, 'Fineview': 0.15746367239101716, 'Banksville': 0.061822985468956405, 'Larimer': 0.2203434610303831, 'Point Breeze': 0.07714663143989432, 'Homewood West': 0.11017173051519155, 'Homewood South': 0.55667107001321, 'Squirrel Hill South': 0.1833553500660502, 'Middle Hill': 0.21796565389696168, 'North Oakland': 0.08665785997357991, 'Upper Lawrenceville': 0.04147952443857331, 'Arlington': 0.07371202113606341, 'Garfield': 0.1688243064729194, 'Lincoln Place': 0.03936591809775429, 'East Liberty': 0.34002642007926026, 'Beltzhoover': 0.1143989431968296, 'California-Kirkbride': 0.07556142668428005, 'Duquesne Heights': 0.037780713342140025, 'South Shore': 0.05812417437252312, 'South Side Slopes': 0.16829590488771468, 'Mount Washington': 0.35667107001321, 'Bon Air': 0.028269484808454426, 'Knoxville': 0.3202113606340819, 'Crawford-Roberts': 0.18229854689564068, 'Fairywood': 0.023513870541611626, 'West End': 0.03249669749009247, 'Friendship': 0.06578599735799208, 'Morningside': 0.03883751651254954, 'Overbrook': 0.08348745046235138, 'Mount Oliver Borough': 0.025891677675033024, 'Central Lawrenceville': 0.09854689564068692, 'Oakwood': 0.01453104359313078, 'Stanton Heights': 0.040422721268163805, 'Terrace Village': 0.07054161162483487, 'South Oakland': 0.09062087186261558, 'Squirrel Hill North': 0.06050198150594452, 'Spring Garden': 0.03989431968295905, 'Perry North': 0.13183619550858652, 'Allegheny West': 0.026948480845442536, 'Westwood': 0.040686922060766184, 'Mt. Oliver': 0.02272126816380449, 'Esplen': 0.05468956406869221, 'West Oakland': 0.04491413474240423, 'Summer Hill': 0.012945838837516512, 'Regent Square': 0.0021136063408190224, 'Lower Lawrenceville': 0.058388375165125496, 'Chateau': 0.046499339498018495, 'Arlington Heights': 0.020079260237780713, 'Windgap': 0.017437252311756937, 'Polish Hill': 0.037516512549537646, 'New Homestead': 0.0005284015852047556, 'Ridgemont': 0.0007926023778071334, 'Swisshelm Park': 0.0002642007926023778, 'Hays': 0.02298546895640687, 'St. Clair': 0.002906208718626156, 'Chartiers City': 0.0036988110964332895}\n"
     ]
    }
   ],
   "source": [
    "import csv\n",
    "import geopandas as gpd\n",
    "from shapely.geometry import Point\n",
    "\n",
    "def get_neighborhood(lat, lon):\n",
    "    point = Point(lon, lat)  \n",
    "    for col, row in data.iterrows():\n",
    "        if row['geometry'].contains(point):\n",
    "            return row['HOOD'] \n",
    "    return \"Neighborhood not found\"\n",
    "\n",
    "map = \"City_of_Pittsburgh_Neighborhoods.shp\"\n",
    "\n",
    "data = gpd.read_file(map).to_crs(\"EPSG:4326\")\n",
    "\n",
    "neighborhoods = {}\n",
    "with open(\"arrest_data.csv\", \"r\") as arrests:\n",
    "    reader = csv.reader(arrests)\n",
    "    next(reader)\n",
    "    for row in reader:\n",
    "        if (row[15] != \"None\" and row[16] != \"None\" and row[15] != \"\" and row[16] != \"\"):\n",
    "            latitude = float(row[16])\n",
    "            longitude = float(row[15])\n",
    "            neighborhood = get_neighborhood(latitude, longitude)\n",
    "            if neighborhood in neighborhoods:\n",
    "                neighborhoods[neighborhood] += 1\n",
    "            else:\n",
    "                neighborhoods[neighborhood] = 1\n",
    "maxCrime = max(neighborhoods.values())\n",
    "minCrime = min(neighborhoods.values())\n",
    "\n",
    "crimeScore = {}\n",
    "\n",
    "if (maxCrime == minCrime):\n",
    "    for neighborhood in neighborhoods:\n",
    "        crimeScore[neighborhood] = 0\n",
    "else:\n",
    "    for neighborhood in neighborhoods:\n",
    "        crimeScore[neighborhood] = (neighborhoods[neighborhood] - minCrime)/(maxCrime - minCrime)\n",
    "print(crimeScore)"
   ]
  },
  {
   "cell_type": "code",
   "execution_count": null,
   "id": "068e5a3a-7165-43fe-bef0-59e517b2dd79",
   "metadata": {},
   "outputs": [],
   "source": []
  }
 ],
 "metadata": {
  "kernelspec": {
   "display_name": "Python 3 (ipykernel)",
   "language": "python",
   "name": "python3"
  },
  "language_info": {
   "codemirror_mode": {
    "name": "ipython",
    "version": 3
   },
   "file_extension": ".py",
   "mimetype": "text/x-python",
   "name": "python",
   "nbconvert_exporter": "python",
   "pygments_lexer": "ipython3",
   "version": "3.11.5"
  }
 },
 "nbformat": 4,
 "nbformat_minor": 5
}
