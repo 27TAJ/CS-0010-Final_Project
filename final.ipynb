{
 "cells": [
  {
   "cell_type": "code",
   "execution_count": 22,
   "metadata": {},
   "outputs": [],
   "source": [
    "import geopandas as gpd\n",
    "from shapely.geometry import Point\n",
    "\n",
    "map = \"City_of_Pittsburgh_Neighborhoods.shp\"\n",
    "\n",
    "data = gpd.read_file(map)\n",
    "\n",
    "if data.crs != \"EPSG:4326\":\n",
    "    data = data.to_crs(\"EPSG:4326\")\n",
    "\n",
    "def get_neighborhood(lat, lon):\n",
    "    point = Point(lon, lat)  \n",
    "    for _, row in data.iterrows():\n",
    "        if row['geometry'].contains(point):\n",
    "            return row['HOOD'] \n",
    "    return \"Neighborhood not found\"\n"
   ]
  },
  {
   "cell_type": "code",
   "execution_count": null,
   "metadata": {
    "vscode": {
     "languageId": "coffeescript"
    }
   },
   "outputs": [],
   "source": [
    "import csv\n",
    "neighborhoods = {}\n",
    "with open(\"PogoStations.csv\", \"r\") as pogos:\n",
    "    reader = csv.reader(pogos)\n",
    "    next(reader) \n",
    "    for row in reader:\n",
    "        latitude = float(row[4])\n",
    "        longitude = float(row[5])\n",
    "        neighborhood = get_neighborhood(latitude, longitude)\n",
    "        if neighborhood in neighborhoods:\n",
    "            neighborhoods[neighborhood] += 1\n",
    "        else:\n",
    "            neighborhoods[neighborhood] = 1\n"
   ]
  }
 ],
 "metadata": {
  "kernelspec": {
   "display_name": "Python 3",
   "language": "python",
   "name": "python3"
  },
  "language_info": {
   "codemirror_mode": {
    "name": "ipython",
    "version": 3
   },
   "file_extension": ".py",
   "mimetype": "text/x-python",
   "name": "python",
   "nbconvert_exporter": "python",
   "pygments_lexer": "ipython3",
   "version": "3.13.1"
  }
 },
 "nbformat": 4,
 "nbformat_minor": 2
}
